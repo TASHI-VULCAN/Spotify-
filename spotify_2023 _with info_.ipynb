{
 "cells": [
  {
   "cell_type": "markdown",
   "metadata": {},
   "source": [
    "Spotify 2023 songs: Predective modelling "
   ]
  },
  {
   "cell_type": "markdown",
   "metadata": {},
   "source": [
    "Task 1: Data Exploration and Cleaning\n",
    "1. Understand the Dataset:\n",
    "\n",
    "   - Load the data and display the first few rows.\n",
    "   - Check for null values and handle them appropriately (e.g., remove rows, impute values, etc.).\n",
    "   - Identify the numerical and categorical features.\n",
    "2. Explore Key Statistics:\n",
    "\n",
    "   - Use .describe() and .info() to summarize the dataset.\n",
    "   - Visualize the distribution of key metrics (e.g., popularity, streams, duration) using histograms or box plots."
   ]
  },
  {
   "cell_type": "markdown",
   "metadata": {},
   "source": [
    "Task 2: Feature Engineering\n",
    "1. Correlation Analysis:\n",
    "\n",
    "   - Identify which features are most correlated with song popularity or streams.\n",
    "   - Create a heatmap of the correlation matrix.\n",
    "2. Create New Features:\n",
    "\n",
    "   - Derive features like \"average streams per day\" or \"duration in minutes.\"\n",
    "   - Group songs by genre or artist and calculate aggregated metrics like average popularity per artist."
   ]
  },
  {
   "cell_type": "markdown",
   "metadata": {},
   "source": [
    "Task 3: Predictive Modeling\n",
    "1. Regression Task: Predict Song Popularity\n",
    "\n",
    "   - Define the target variable: popularity.\n",
    "   - Select features like streams, duration, genre, or any other relevant attributes.\n",
    "   - Train a regression model (e.g., Linear Regression, Random Forest Regressor, or XGBoost).\n",
    "   - Evaluate performance using metrics like RMSE and R².\n",
    "2. Classification Task: Identify Hit Songs\n",
    "\n",
    "   - Create a binary classification label: A \"hit song\" is one with popularity above a threshold (e.g., 80).\n",
    "   - Use features like streams, release year, and duration to train a classification model (e.g., Logistic Regression, Decision Tree, or SVM).\n",
    "   - Evaluate using metrics like accuracy, precision, and recall."
   ]
  },
  {
   "cell_type": "markdown",
   "metadata": {},
   "source": [
    "Task 4: Clustering\n",
    "1. Group Similar Songs:\n",
    "   - Use unsupervised learning (e.g., K-Means or DBSCAN) to cluster songs based on attributes like tempo, danceability, and energy.\n",
    "   - Visualize the clusters using PCA or t-SNE to reduce dimensions."
   ]
  },
  {
   "cell_type": "markdown",
   "metadata": {},
   "source": [
    "Task 5: Recommendation System\n",
    "1. Content-Based Filtering:\n",
    "\n",
    "   - Build a recommendation system that suggests songs based on a user’s preferences for specific attributes like genre, tempo, or energy.\n",
    "2. Collaborative Filtering:\n",
    "\n",
    "   - If the dataset includes user data (e.g., user IDs and song IDs), implement a collaborative filtering algorithm to recommend songs to users."
   ]
  },
  {
   "cell_type": "markdown",
   "metadata": {},
   "source": [
    "Exploratory Data Analysis (EDA):\n",
    "\n",
    "Step 1: Load and Preview the Data\n",
    "  - Load the dataset and examine its structure\n",
    "  - Check basic information\n",
    "  \n",
    "Step 2: Check for Missing Values\n",
    "  - Identify and handle missing data\n",
    "\n",
    "Step 3: Analyze Data Distributions\n",
    "  - Visualize numerical and categorical data distributions\n",
    "\n",
    "Step 4: Correlation Analysis\n",
    "  - Analyze relationships between numerical features\n",
    "  - Look for features that have strong positive or negative correlations with the target variable (e.g., popularity)\n",
    "\n",
    "Step 5: Feature Exploration\n",
    "  - Identify outliers using boxplots\n",
    "  - Analyze trends\n",
    "  \n",
    "Step 6: Data Preparation for ML\n",
    "  - Convert categorical features (e.g., genre) to numerical using one-hot encoding or label encoding\n",
    "  - Scale numerical features for ML models"
   ]
  },
  {
   "cell_type": "markdown",
   "metadata": {},
   "source": [
    "Next Steps: Machine Learning Models\n",
    "Once EDA is complete, you can proceed with these tasks:\n",
    "\n",
    "  - Regression Task: Predict popularity using features like streams, duration_ms, and tempo.\n",
    "  - Classification Task: Classify songs as \"hit\" (popularity > 80) or \"non-hit\" (popularity ≤ 80).\n",
    "  - Clustering: Group songs into clusters based on features like danceability, energy, and tempo."
   ]
  },
  {
   "cell_type": "markdown",
   "metadata": {},
   "source": [
    "Machine Learning model:\n",
    "\n",
    "Step 1: Define the Problem\n",
    "  - We aim to predict the popularity of songs using various features such as, streams,duration_ms, tempo, etc.\n",
    "\n",
    "Step 2: Prepare the Dataset\n",
    "  - Select Features and Target Variable\n",
    "  - Split the Dataset: Divide the dataset into training and testing sets\n",
    "\n",
    "Step 3: Train the Linear Regression Model\n",
    "  - Import the Model\n",
    "  - Initialize and Fit the Model\n",
    "\n",
    "Step 4: Make Predictions\n",
    "  - Use the trained model to predict the popularity of songs in the test set\n",
    "\n",
    "Step 5: Evaluate the Model\n",
    " Assess how well your regression model performs using evaluation metrics\n",
    "  -  R² Score\n",
    "  - Mean Squared Error (MSE) and Root Mean Squared Error (RMSE)\n",
    "\n",
    "Step 6: Visualize Results\n",
    "  - Compare Predictions vs. Actual Values\n",
    "  - Residual Plot: Visualize errors in predictions\n",
    "\n",
    "Next Steps\n",
    "If the performance isn't satisfactory:\n",
    "\n",
    "Feature Engineering: Add or transform features (e.g., log-transform streams or normalize features).\n",
    "Regularization: Use models like Ridge or Lasso regression to reduce overfitting.\n",
    "Experiment: Try other regression models like Decision Trees, Random Forests, or XGBoost\n"
   ]
  },
  {
   "cell_type": "code",
   "execution_count": 3,
   "metadata": {},
   "outputs": [
    {
     "ename": "ModuleNotFoundError",
     "evalue": "No module named 'kagglehub'",
     "output_type": "error",
     "traceback": [
      "\u001b[31m---------------------------------------------------------------------------\u001b[39m",
      "\u001b[31mModuleNotFoundError\u001b[39m                       Traceback (most recent call last)",
      "\u001b[36mCell\u001b[39m\u001b[36m \u001b[39m\u001b[32mIn[3]\u001b[39m\u001b[32m, line 1\u001b[39m\n\u001b[32m----> \u001b[39m\u001b[32m1\u001b[39m \u001b[38;5;28;01mimport\u001b[39;00m\u001b[38;5;250m \u001b[39m\u001b[34;01mkagglehub\u001b[39;00m\n\u001b[32m      2\u001b[39m \u001b[38;5;28;01mimport\u001b[39;00m\u001b[38;5;250m \u001b[39m\u001b[34;01mpandas\u001b[39;00m\u001b[38;5;250m \u001b[39m\u001b[38;5;28;01mas\u001b[39;00m\u001b[38;5;250m \u001b[39m\u001b[34;01mpd\u001b[39;00m\n\u001b[32m      3\u001b[39m \u001b[38;5;28;01mimport\u001b[39;00m\u001b[38;5;250m \u001b[39m\u001b[34;01mnumpy\u001b[39;00m\n",
      "\u001b[31mModuleNotFoundError\u001b[39m: No module named 'kagglehub'"
     ]
    }
   ],
   "source": [
    "import kagglehub\n",
    "import pandas as pd\n",
    "import numpy\n",
    "\n",
    "import matplotlib.pyplot as plt\n",
    "import seaborn as sns\n",
    "\n",
    "from sklearn.preprocessing import StandardScaler\n",
    "\n",
    "from sklearn.model_selection import train_test_split\n",
    "from sklearn.linear_model import LinearRegression\n",
    "\n",
    "from sklearn.metrics import r2_score\n",
    "from sklearn.metrics import mean_squared_error"
   ]
  },
  {
   "cell_type": "code",
   "execution_count": null,
   "metadata": {},
   "outputs": [],
   "source": [
    "path = kagglehub.dataset_download(\"nelgiriyewithana/top-spotify-songs-2023\")\n",
    "print(\"Path to dataset files:\", path)"
   ]
  },
  {
   "cell_type": "code",
   "execution_count": null,
   "metadata": {},
   "outputs": [],
   "source": [
    "df = pd.read_csv(r\"C:\\Users\\tdawa\\.cache\\kagglehub\\datasets\\nelgiriyewithana\\top-spotify-songs-2023\\versions\\1\\spotify-2023.csv\", encoding='ISO-8859-1')\n",
    "df.head()"
   ]
  },
  {
   "cell_type": "code",
   "execution_count": null,
   "metadata": {},
   "outputs": [],
   "source": [
    "#Checking basic information (data types and null values)\n",
    "df.info()\n",
    "#summary of statistics for numerical columns\n",
    "df.describe().round(1)"
   ]
  },
  {
   "cell_type": "code",
   "execution_count": null,
   "metadata": {},
   "outputs": [],
   "source": [
    "#auto adjusting the Dtype if required\n",
    "df = df.infer_objects()\n",
    "df.info()"
   ]
  },
  {
   "cell_type": "code",
   "execution_count": null,
   "metadata": {},
   "outputs": [],
   "source": [
    "missing_values = df.isnull().sum()\n",
    "print(missing_values)"
   ]
  },
  {
   "cell_type": "code",
   "execution_count": null,
   "metadata": {},
   "outputs": [],
   "source": [
    "df = df.dropna()\n",
    "df.info()"
   ]
  },
  {
   "cell_type": "code",
   "execution_count": null,
   "metadata": {},
   "outputs": [],
   "source": [
    "#Histogram of a numerical column \n",
    "df['bpm'].hist()\n",
    "plt.title('Popularity Distribution')\n",
    "plt.xlabel('Popularity')\n",
    "plt.ylabel('Frequency')\n",
    "plt.show()"
   ]
  },
  {
   "cell_type": "code",
   "execution_count": null,
   "metadata": {},
   "outputs": [],
   "source": [
    "#Bar plot for a categorical column \n",
    "x = df['released_year'] #.value_counts()\n",
    "y = df['in_spotify_charts']\n",
    "plt.title('Charts by year realeased')\n",
    "plt.xlabel('released_year')\n",
    "plt.ylabel('in_spotify_charts')\n",
    "plt.bar(x,y,align='center',width=0.8)\n",
    "\n",
    "plt.show()"
   ]
  },
  {
   "cell_type": "code",
   "execution_count": null,
   "metadata": {},
   "outputs": [],
   "source": [
    "#Plotting two different scatter plots in the same graph\n",
    "\n",
    "#plot 1\n",
    "x = df['bpm']\n",
    "y = df['in_spotify_charts']\n",
    "\n",
    "print(\"Min: \",min(y), \"Max: \",max(y))\n",
    "plt.scatter(x, y, color='blue')\n",
    "plt.title('Relation between bpm and in_spotify_charts')\n",
    "plt.xlabel('bpm')\n",
    "plt.ylabel('in_spotify_charts')\n",
    "\n",
    "#plot 2\n",
    "x = df['bpm']\n",
    "y = df['energy_%']\n",
    "\n",
    "print(\"Min: \",min(y), \"Max: \",max(y))\n",
    "plt.scatter(x, y, color= 'green')\n",
    "plt.title('Relation between bpm and energy_%')\n",
    "plt.xlabel('bpm')\n",
    "plt.ylabel('energy_%')\n",
    "\n",
    "plt.show()"
   ]
  },
  {
   "cell_type": "code",
   "execution_count": null,
   "metadata": {},
   "outputs": [],
   "source": [
    "#Correlation matrix\n",
    "\n",
    "correlation_matrix = df['bpm','energy_%'].corr()\n",
    "\n",
    "#Heatmap of the correlation matrix\n",
    "plt.figure(figsize=(10,8))\n",
    "sns.heatmap(correlation_matrix, annot=True, cmap='coolwarm')\n",
    "plt.title('Correlation Matrix')\n",
    "plt.show()\n",
    "\n",
    "#Need to clean the data and convert it into integers or floats first, \n",
    "# then we can compare which features have the best correleation to each other."
   ]
  },
  {
   "cell_type": "code",
   "execution_count": null,
   "metadata": {},
   "outputs": [],
   "source": [
    "#identify outliers using boxplots\n",
    "sns.boxenplot(df['bpm'])\n",
    "plt.title('Boxplot of popularity')\n",
    "plt.show()"
   ]
  },
  {
   "cell_type": "code",
   "execution_count": null,
   "metadata": {},
   "outputs": [],
   "source": [
    "#Scatter plot to explore replationships\n",
    "\n",
    "sns.scatterplot(data=df[['streams','bpm']], x='streams', y='bpm')\n",
    "plt.title('Streams vs Popularity')\n",
    "plt.show()"
   ]
  },
  {
   "cell_type": "code",
   "execution_count": null,
   "metadata": {},
   "outputs": [],
   "source": [
    "#Data preparation for ML\n",
    "#one hot encoding\n",
    "df = pd.get_dummies(df, columns=['mode'], drop_first=True)\n",
    "print(df[['mode']])"
   ]
  },
  {
   "cell_type": "code",
   "execution_count": null,
   "metadata": {},
   "outputs": [],
   "source": [
    "scaler = StandardScaler()\n",
    "numerical_columns = ['streams', 'duration_ms', 'tempo']  # Example columns\n",
    "df[numerical_columns] = scaler.fit_transform(df[numerical_columns])"
   ]
  },
  {
   "cell_type": "code",
   "execution_count": null,
   "metadata": {},
   "outputs": [],
   "source": [
    "# ML model\n",
    "\n",
    "y = df['streams'] #Target variable\n",
    "\n",
    "X = df[['bpm','energy_%']]\n",
    "\n",
    "# Split data (80% training, 20% testing)\n",
    "X_train, X_test, y_train, y_test = train_test_split(X, y, test_size=0.2, random_state=42)"
   ]
  },
  {
   "cell_type": "code",
   "execution_count": null,
   "metadata": {},
   "outputs": [],
   "source": [
    "# Initialize the model\n",
    "model = LinearRegression()\n",
    "\n",
    "# Train the model on the training data\n",
    "model.fit(X_train, y_train)"
   ]
  },
  {
   "cell_type": "code",
   "execution_count": null,
   "metadata": {},
   "outputs": [],
   "source": [
    "# Make predictions on the test set\n",
    "y_pred = model.predict(X_test)"
   ]
  },
  {
   "cell_type": "code",
   "execution_count": null,
   "metadata": {},
   "outputs": [],
   "source": [
    "# Calculate R² score to evaluate the model\n",
    "r2 = r2_score(y_test, y_pred)\n",
    "print(f'R² Score: {r2}')"
   ]
  },
  {
   "cell_type": "code",
   "execution_count": null,
   "metadata": {},
   "outputs": [],
   "source": [
    "# Calculate MSE and RMSE\n",
    "mse = mean_squared_error(y_test, y_pred)\n",
    "rmse = mse ** 0.5\n",
    "print(f'MSE: {mse}, RMSE: {rmse}')"
   ]
  },
  {
   "cell_type": "code",
   "execution_count": null,
   "metadata": {},
   "outputs": [],
   "source": [
    "# Scatter plot for actual vs predicted values\n",
    "plt.scatter(y_test,y_pred, alpha=0.3,color='red')\n",
    "plt.xlabel('Actual Popularity')\n",
    "plt.ylabel('Predicted Popularity')\n",
    "plt.title('Actual vs Predicted Popularity')\n",
    "plt.show()"
   ]
  },
  {
   "cell_type": "code",
   "execution_count": null,
   "metadata": {},
   "outputs": [],
   "source": [
    "residuals = y_test - y_pred\n",
    "\n",
    "# Plot residuals\n",
    "plt.hist(residuals, bins=20, color='blue', edgecolor='black')\n",
    "plt.xlabel('Residual')\n",
    "plt.ylabel('Frequency')\n",
    "plt.title('Residuals Distribution')\n",
    "plt.show()"
   ]
  },
  {
   "cell_type": "markdown",
   "metadata": {},
   "source": [
    "This is a test work and I am using a 55inch oled screen to work. This work flow works for me and I like it. I think i should make a  \n"
   ]
  }
 ],
 "metadata": {
  "kernelspec": {
   "display_name": ".venv",
   "language": "python",
   "name": "python3"
  },
  "language_info": {
   "codemirror_mode": {
    "name": "ipython",
    "version": 3
   },
   "file_extension": ".py",
   "mimetype": "text/x-python",
   "name": "python",
   "nbconvert_exporter": "python",
   "pygments_lexer": "ipython3",
   "version": "3.13.7"
  }
 },
 "nbformat": 4,
 "nbformat_minor": 2
}
